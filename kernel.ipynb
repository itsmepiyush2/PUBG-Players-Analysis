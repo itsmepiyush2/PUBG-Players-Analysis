{
  "cells": [
    {
      "metadata": {
        "_uuid": "8f2839f25d086af736a60e9eeb907d3b93b6e0e5",
        "_cell_guid": "b1076dfc-b9ad-4769-8c92-a6c4dae69d19",
        "trusted": true
      },
      "cell_type": "code",
      "source": "import numpy as np # linear algebra\nimport pandas as pd # data processing, CSV file I/O (e.g. pd.read_csv)\nimport matplotlib.pyplot as plt\n# Input data files are available in the \"../input/\" directory.\n# For example, running this (by clicking run or pressing Shift+Enter) will list the files in the input directory\n\nimport os\nprint(os.listdir(\"../input\"))\n\n# Any results you write to the current directory are saved as output.",
      "execution_count": 35,
      "outputs": [
        {
          "output_type": "stream",
          "text": "['train.csv', 'sample_submission.csv', 'test.csv']\n",
          "name": "stdout"
        }
      ]
    },
    {
      "metadata": {
        "_cell_guid": "79c7e3d0-c299-4dcb-8224-4455121ee9b0",
        "_uuid": "d629ff2d2480ee46fbb7e2d37f6b5fab8052498a",
        "trusted": true
      },
      "cell_type": "code",
      "source": "training_set = pd.read_csv(\"../input/train.csv\")\ntraining_set.head()",
      "execution_count": 36,
      "outputs": [
        {
          "output_type": "execute_result",
          "execution_count": 36,
          "data": {
            "text/plain": "   Id  groupId  matchId      ...       weaponsAcquired  winPoints  winPlacePerc\n0   0       24        0      ...                     4       1458        0.8571\n1   1   440875        1      ...                     3       1511        0.0400\n2   2   878242        2      ...                     5       1583        0.7407\n3   3  1319841        3      ...                     1       1489        0.1146\n4   4  1757883        4      ...                     4       1475        0.5217\n\n[5 rows x 26 columns]",
            "text/html": "<div>\n<style scoped>\n    .dataframe tbody tr th:only-of-type {\n        vertical-align: middle;\n    }\n\n    .dataframe tbody tr th {\n        vertical-align: top;\n    }\n\n    .dataframe thead th {\n        text-align: right;\n    }\n</style>\n<table border=\"1\" class=\"dataframe\">\n  <thead>\n    <tr style=\"text-align: right;\">\n      <th></th>\n      <th>Id</th>\n      <th>groupId</th>\n      <th>matchId</th>\n      <th>assists</th>\n      <th>boosts</th>\n      <th>damageDealt</th>\n      <th>DBNOs</th>\n      <th>headshotKills</th>\n      <th>heals</th>\n      <th>killPlace</th>\n      <th>killPoints</th>\n      <th>kills</th>\n      <th>killStreaks</th>\n      <th>longestKill</th>\n      <th>maxPlace</th>\n      <th>numGroups</th>\n      <th>revives</th>\n      <th>rideDistance</th>\n      <th>roadKills</th>\n      <th>swimDistance</th>\n      <th>teamKills</th>\n      <th>vehicleDestroys</th>\n      <th>walkDistance</th>\n      <th>weaponsAcquired</th>\n      <th>winPoints</th>\n      <th>winPlacePerc</th>\n    </tr>\n  </thead>\n  <tbody>\n    <tr>\n      <th>0</th>\n      <td>0</td>\n      <td>24</td>\n      <td>0</td>\n      <td>0</td>\n      <td>5</td>\n      <td>247.30</td>\n      <td>2</td>\n      <td>0</td>\n      <td>4</td>\n      <td>17</td>\n      <td>1050</td>\n      <td>2</td>\n      <td>1</td>\n      <td>65.32</td>\n      <td>29</td>\n      <td>28</td>\n      <td>1</td>\n      <td>591.3</td>\n      <td>0</td>\n      <td>0.0</td>\n      <td>0</td>\n      <td>0</td>\n      <td>782.40</td>\n      <td>4</td>\n      <td>1458</td>\n      <td>0.8571</td>\n    </tr>\n    <tr>\n      <th>1</th>\n      <td>1</td>\n      <td>440875</td>\n      <td>1</td>\n      <td>1</td>\n      <td>0</td>\n      <td>37.65</td>\n      <td>1</td>\n      <td>1</td>\n      <td>0</td>\n      <td>45</td>\n      <td>1072</td>\n      <td>1</td>\n      <td>1</td>\n      <td>13.55</td>\n      <td>26</td>\n      <td>23</td>\n      <td>0</td>\n      <td>0.0</td>\n      <td>0</td>\n      <td>0.0</td>\n      <td>0</td>\n      <td>0</td>\n      <td>119.60</td>\n      <td>3</td>\n      <td>1511</td>\n      <td>0.0400</td>\n    </tr>\n    <tr>\n      <th>2</th>\n      <td>2</td>\n      <td>878242</td>\n      <td>2</td>\n      <td>0</td>\n      <td>1</td>\n      <td>93.73</td>\n      <td>1</td>\n      <td>0</td>\n      <td>2</td>\n      <td>54</td>\n      <td>1404</td>\n      <td>0</td>\n      <td>0</td>\n      <td>0.00</td>\n      <td>28</td>\n      <td>28</td>\n      <td>1</td>\n      <td>0.0</td>\n      <td>0</td>\n      <td>0.0</td>\n      <td>0</td>\n      <td>0</td>\n      <td>3248.00</td>\n      <td>5</td>\n      <td>1583</td>\n      <td>0.7407</td>\n    </tr>\n    <tr>\n      <th>3</th>\n      <td>3</td>\n      <td>1319841</td>\n      <td>3</td>\n      <td>0</td>\n      <td>0</td>\n      <td>95.88</td>\n      <td>0</td>\n      <td>0</td>\n      <td>0</td>\n      <td>86</td>\n      <td>1069</td>\n      <td>0</td>\n      <td>0</td>\n      <td>0.00</td>\n      <td>97</td>\n      <td>94</td>\n      <td>0</td>\n      <td>0.0</td>\n      <td>0</td>\n      <td>0.0</td>\n      <td>0</td>\n      <td>0</td>\n      <td>21.49</td>\n      <td>1</td>\n      <td>1489</td>\n      <td>0.1146</td>\n    </tr>\n    <tr>\n      <th>4</th>\n      <td>4</td>\n      <td>1757883</td>\n      <td>4</td>\n      <td>0</td>\n      <td>1</td>\n      <td>0.00</td>\n      <td>0</td>\n      <td>0</td>\n      <td>1</td>\n      <td>58</td>\n      <td>1034</td>\n      <td>0</td>\n      <td>0</td>\n      <td>0.00</td>\n      <td>47</td>\n      <td>41</td>\n      <td>0</td>\n      <td>0.0</td>\n      <td>0</td>\n      <td>0.0</td>\n      <td>0</td>\n      <td>0</td>\n      <td>640.80</td>\n      <td>4</td>\n      <td>1475</td>\n      <td>0.5217</td>\n    </tr>\n  </tbody>\n</table>\n</div>"
          },
          "metadata": {}
        }
      ]
    },
    {
      "metadata": {
        "trusted": true,
        "_uuid": "6ae6281abeb2f5942e4d83f5a2970c4663b21ea6"
      },
      "cell_type": "code",
      "source": "x = training_set.drop(['winPlacePerc'], axis = 1).values\nx",
      "execution_count": 37,
      "outputs": [
        {
          "output_type": "execute_result",
          "execution_count": 37,
          "data": {
            "text/plain": "array([[0.000000e+00, 2.400000e+01, 0.000000e+00, ..., 7.824000e+02,\n        4.000000e+00, 1.458000e+03],\n       [1.000000e+00, 4.408750e+05, 1.000000e+00, ..., 1.196000e+02,\n        3.000000e+00, 1.511000e+03],\n       [2.000000e+00, 8.782420e+05, 2.000000e+00, ..., 3.248000e+03,\n        5.000000e+00, 1.583000e+03],\n       ...,\n       [6.224520e+06, 1.657176e+06, 4.767900e+04, ..., 4.006000e+02,\n        2.000000e+00, 1.500000e+03],\n       [6.224521e+06, 1.658403e+06, 4.770700e+04, ..., 6.882000e+01,\n        1.000000e+00, 1.502000e+03],\n       [6.224522e+06, 1.658560e+06, 4.771000e+04, ..., 2.079000e+03,\n        4.000000e+00, 1.517000e+03]])"
          },
          "metadata": {}
        }
      ]
    },
    {
      "metadata": {
        "trusted": true,
        "_uuid": "e8469eb78a4e727e520e65885495a961695389d3"
      },
      "cell_type": "code",
      "source": "y = training_set['winPlacePerc'].values\ny",
      "execution_count": 38,
      "outputs": [
        {
          "output_type": "execute_result",
          "execution_count": 38,
          "data": {
            "text/plain": "array([0.8571, 0.04  , 0.7407, ..., 0.4483, 0.1429, 0.8077])"
          },
          "metadata": {}
        }
      ]
    },
    {
      "metadata": {
        "trusted": true,
        "_uuid": "141672910619a4a44eef56203e60780bf4b3ea86"
      },
      "cell_type": "code",
      "source": "test_set = pd.read_csv(\"../input/test.csv\")\ntest_set.head()",
      "execution_count": 67,
      "outputs": [
        {
          "output_type": "execute_result",
          "execution_count": 67,
          "data": {
            "text/plain": "      Id  groupId  matchId    ...      walkDistance  weaponsAcquired  winPoints\n0  47734  1659463    47734    ...            421.50                7       1500\n1  47735  1659508    47735    ...            655.80                4       1526\n2  47736  1659555    47736    ...             74.58                1       1475\n3  47737  1659621    47737    ...            167.20                2       1464\n4  47738  1659675    47738    ...            146.70                3       1505\n\n[5 rows x 25 columns]",
            "text/html": "<div>\n<style scoped>\n    .dataframe tbody tr th:only-of-type {\n        vertical-align: middle;\n    }\n\n    .dataframe tbody tr th {\n        vertical-align: top;\n    }\n\n    .dataframe thead th {\n        text-align: right;\n    }\n</style>\n<table border=\"1\" class=\"dataframe\">\n  <thead>\n    <tr style=\"text-align: right;\">\n      <th></th>\n      <th>Id</th>\n      <th>groupId</th>\n      <th>matchId</th>\n      <th>assists</th>\n      <th>boosts</th>\n      <th>damageDealt</th>\n      <th>DBNOs</th>\n      <th>headshotKills</th>\n      <th>heals</th>\n      <th>killPlace</th>\n      <th>killPoints</th>\n      <th>kills</th>\n      <th>killStreaks</th>\n      <th>longestKill</th>\n      <th>maxPlace</th>\n      <th>numGroups</th>\n      <th>revives</th>\n      <th>rideDistance</th>\n      <th>roadKills</th>\n      <th>swimDistance</th>\n      <th>teamKills</th>\n      <th>vehicleDestroys</th>\n      <th>walkDistance</th>\n      <th>weaponsAcquired</th>\n      <th>winPoints</th>\n    </tr>\n  </thead>\n  <tbody>\n    <tr>\n      <th>0</th>\n      <td>47734</td>\n      <td>1659463</td>\n      <td>47734</td>\n      <td>0</td>\n      <td>0</td>\n      <td>100.0</td>\n      <td>1</td>\n      <td>0</td>\n      <td>0</td>\n      <td>59</td>\n      <td>1000</td>\n      <td>0</td>\n      <td>0</td>\n      <td>0.000</td>\n      <td>50</td>\n      <td>45</td>\n      <td>0</td>\n      <td>0.0</td>\n      <td>0</td>\n      <td>0.0</td>\n      <td>1</td>\n      <td>0</td>\n      <td>421.50</td>\n      <td>7</td>\n      <td>1500</td>\n    </tr>\n    <tr>\n      <th>1</th>\n      <td>47735</td>\n      <td>1659508</td>\n      <td>47735</td>\n      <td>0</td>\n      <td>1</td>\n      <td>400.0</td>\n      <td>2</td>\n      <td>0</td>\n      <td>3</td>\n      <td>9</td>\n      <td>1200</td>\n      <td>4</td>\n      <td>2</td>\n      <td>15.420</td>\n      <td>48</td>\n      <td>47</td>\n      <td>1</td>\n      <td>0.0</td>\n      <td>0</td>\n      <td>0.0</td>\n      <td>0</td>\n      <td>0</td>\n      <td>655.80</td>\n      <td>4</td>\n      <td>1526</td>\n    </tr>\n    <tr>\n      <th>2</th>\n      <td>47736</td>\n      <td>1659555</td>\n      <td>47736</td>\n      <td>0</td>\n      <td>0</td>\n      <td>0.0</td>\n      <td>0</td>\n      <td>0</td>\n      <td>0</td>\n      <td>72</td>\n      <td>1216</td>\n      <td>0</td>\n      <td>0</td>\n      <td>0.000</td>\n      <td>29</td>\n      <td>28</td>\n      <td>0</td>\n      <td>0.0</td>\n      <td>0</td>\n      <td>0.0</td>\n      <td>0</td>\n      <td>0</td>\n      <td>74.58</td>\n      <td>1</td>\n      <td>1475</td>\n    </tr>\n    <tr>\n      <th>3</th>\n      <td>47737</td>\n      <td>1659621</td>\n      <td>47737</td>\n      <td>0</td>\n      <td>0</td>\n      <td>68.6</td>\n      <td>0</td>\n      <td>0</td>\n      <td>0</td>\n      <td>68</td>\n      <td>1177</td>\n      <td>0</td>\n      <td>0</td>\n      <td>0.000</td>\n      <td>97</td>\n      <td>92</td>\n      <td>0</td>\n      <td>0.0</td>\n      <td>0</td>\n      <td>0.0</td>\n      <td>0</td>\n      <td>0</td>\n      <td>167.20</td>\n      <td>2</td>\n      <td>1464</td>\n    </tr>\n    <tr>\n      <th>4</th>\n      <td>47738</td>\n      <td>1659675</td>\n      <td>47738</td>\n      <td>0</td>\n      <td>1</td>\n      <td>370.5</td>\n      <td>3</td>\n      <td>0</td>\n      <td>1</td>\n      <td>45</td>\n      <td>1013</td>\n      <td>1</td>\n      <td>1</td>\n      <td>5.968</td>\n      <td>27</td>\n      <td>26</td>\n      <td>0</td>\n      <td>0.0</td>\n      <td>0</td>\n      <td>0.0</td>\n      <td>0</td>\n      <td>0</td>\n      <td>146.70</td>\n      <td>3</td>\n      <td>1505</td>\n    </tr>\n  </tbody>\n</table>\n</div>"
          },
          "metadata": {}
        }
      ]
    },
    {
      "metadata": {
        "trusted": true,
        "_uuid": "46e48ed28c55a6f8916b4777d0ee599c0a697491"
      },
      "cell_type": "code",
      "source": "test_set.shape",
      "execution_count": 39,
      "outputs": [
        {
          "output_type": "execute_result",
          "execution_count": 39,
          "data": {
            "text/plain": "(1867913, 25)"
          },
          "metadata": {}
        }
      ]
    },
    {
      "metadata": {
        "trusted": true,
        "_uuid": "da94fd88b6c8b75088c12adbffc9d1863c654641"
      },
      "cell_type": "code",
      "source": "from sklearn.model_selection import train_test_split\nx_train, x_test, y_train, y_test = train_test_split(x, y, test_size = 0.2)",
      "execution_count": 40,
      "outputs": []
    },
    {
      "metadata": {
        "trusted": true,
        "_uuid": "288ba55f358d67e037d1ff481ea9051e1cf04e7f"
      },
      "cell_type": "code",
      "source": "from sklearn.preprocessing import StandardScaler, MinMaxScaler\nsc1 = StandardScaler()\nx_train = sc1.fit_transform(x_train)\nx_train",
      "execution_count": 41,
      "outputs": [
        {
          "output_type": "execute_result",
          "execution_count": 41,
          "data": {
            "text/plain": "array([[-1.59206388,  0.1791121 ,  0.89178108, ..., -0.69997381,\n        -1.02321501, -0.57575908],\n       [ 0.23472848, -0.88106655, -0.32964121, ..., -0.35322705,\n         0.22602889, -0.01159201],\n       [ 0.720134  , -0.2228076 ,  0.42969385, ...,  1.21801679,\n         0.64244352,  1.0227143 ],\n       ...,\n       [-0.91792606, -0.49911511,  0.11053515, ..., -0.90479714,\n        -1.02321501, -0.01159201],\n       [-1.38065526,  2.22213369, -1.21775706, ..., -0.8337996 ,\n        -1.02321501, -0.03509897],\n       [ 0.56311143, -1.36391471, -0.88495849, ..., -0.90642742,\n        -0.60680038,  0.22347761]])"
          },
          "metadata": {}
        }
      ]
    },
    {
      "metadata": {
        "trusted": true,
        "_uuid": "68c43e1c41ec5ff1240b321cfa71f6bd626aab0b"
      },
      "cell_type": "code",
      "source": "x_test = sc1.transform(x_test)\nx_test",
      "execution_count": 42,
      "outputs": [
        {
          "output_type": "execute_result",
          "execution_count": 42,
          "data": {
            "text/plain": "array([[-1.29048008e+00, -1.42709862e-02,  6.69770258e-01, ...,\n         1.11231770e+00, -1.90385743e-01, -1.52633777e-01],\n       [ 1.41755620e+00,  4.61856945e-01,  1.21376933e+00, ...,\n        -8.96224768e-01, -1.02321501e+00, -9.51870468e-01],\n       [-9.59364582e-02, -5.49241091e-01,  5.35813915e-02, ...,\n        -9.45231524e-01, -1.43962964e+00, -1.84645568e+01],\n       ...,\n       [ 7.13644639e-01, -9.79591080e-01, -4.45507648e-01, ...,\n         1.55482067e+00,  2.26028889e-01,  4.11533300e-01],\n       [-1.41262365e+00, -9.76019884e-01, -4.41444705e-01, ...,\n         8.37320920e-01,  6.42443521e-01, -5.52252122e-01],\n       [ 6.13226115e-01,  1.82782376e-01,  8.95989130e-01, ...,\n         9.36749725e-01,  6.42443521e-01, -1.15920076e-02]])"
          },
          "metadata": {}
        }
      ]
    },
    {
      "metadata": {
        "trusted": true,
        "_uuid": "a5dfa795e6059326c0763c199ff8a98e102dd113"
      },
      "cell_type": "code",
      "source": "from keras.models import Sequential\nfrom keras.layers import Dense, Dropout",
      "execution_count": 43,
      "outputs": []
    },
    {
      "metadata": {
        "trusted": true,
        "_uuid": "13835e34878e98c988bd8f8085695de82f457102"
      },
      "cell_type": "code",
      "source": "rgr = Sequential()\n\nrgr.add(Dense(units = 13, kernel_initializer = 'uniform', activation = 'relu', input_dim = 25))\n\nrgr.add(Dense(units = 6, kernel_initializer = 'uniform', activation = 'relu'))\n\nrgr.add(Dense(units = 1, kernel_initializer = 'uniform', activation = 'sigmoid'))\n\nrgr.compile(optimizer = 'adam', loss = 'mse')",
      "execution_count": 44,
      "outputs": []
    },
    {
      "metadata": {
        "trusted": true,
        "_uuid": "def064710f8c84cb58357f766aa6e00aac616865"
      },
      "cell_type": "code",
      "source": "track = rgr.fit(x_train, y_train, batch_size = 1000, epochs = 50)",
      "execution_count": 45,
      "outputs": [
        {
          "output_type": "stream",
          "text": "Epoch 1/50\n3485868/3485868 [==============================] - 8s 2us/step - loss: 0.0150\nEpoch 2/50\n3485868/3485868 [==============================] - 8s 2us/step - loss: 0.0099\nEpoch 3/50\n3485868/3485868 [==============================] - 8s 2us/step - loss: 0.0093\nEpoch 4/50\n3485868/3485868 [==============================] - 8s 2us/step - loss: 0.0092\nEpoch 5/50\n3485868/3485868 [==============================] - 8s 2us/step - loss: 0.0091\nEpoch 6/50\n3485868/3485868 [==============================] - 7s 2us/step - loss: 0.0090\nEpoch 7/50\n3485868/3485868 [==============================] - 7s 2us/step - loss: 0.0090\nEpoch 8/50\n3485868/3485868 [==============================] - 9s 2us/step - loss: 0.0089\nEpoch 9/50\n3485868/3485868 [==============================] - 8s 2us/step - loss: 0.0089\nEpoch 10/50\n3485868/3485868 [==============================] - 8s 2us/step - loss: 0.0089\nEpoch 11/50\n3485868/3485868 [==============================] - 8s 2us/step - loss: 0.0089\nEpoch 12/50\n3485868/3485868 [==============================] - 8s 2us/step - loss: 0.0088\nEpoch 13/50\n3485868/3485868 [==============================] - 8s 2us/step - loss: 0.0088\nEpoch 14/50\n3485868/3485868 [==============================] - 8s 2us/step - loss: 0.0088\nEpoch 15/50\n3485868/3485868 [==============================] - 8s 2us/step - loss: 0.0088\nEpoch 16/50\n3485868/3485868 [==============================] - 8s 2us/step - loss: 0.0088\nEpoch 17/50\n3485868/3485868 [==============================] - 7s 2us/step - loss: 0.0088\nEpoch 18/50\n3485868/3485868 [==============================] - 8s 2us/step - loss: 0.0087\nEpoch 19/50\n3485868/3485868 [==============================] - 8s 2us/step - loss: 0.0087\nEpoch 20/50\n3485868/3485868 [==============================] - 8s 2us/step - loss: 0.0087\nEpoch 21/50\n3485868/3485868 [==============================] - 8s 2us/step - loss: 0.0087\nEpoch 22/50\n3485868/3485868 [==============================] - 7s 2us/step - loss: 0.0087\nEpoch 23/50\n3485868/3485868 [==============================] - 8s 2us/step - loss: 0.0086\nEpoch 24/50\n3485868/3485868 [==============================] - 8s 2us/step - loss: 0.0086\nEpoch 25/50\n3485868/3485868 [==============================] - 8s 2us/step - loss: 0.0086\nEpoch 26/50\n3485868/3485868 [==============================] - 8s 2us/step - loss: 0.0086\nEpoch 27/50\n3485868/3485868 [==============================] - 8s 2us/step - loss: 0.0086\nEpoch 28/50\n3485868/3485868 [==============================] - 7s 2us/step - loss: 0.0086\nEpoch 29/50\n3485868/3485868 [==============================] - 8s 2us/step - loss: 0.0086\nEpoch 30/50\n3485868/3485868 [==============================] - 8s 2us/step - loss: 0.0086\nEpoch 31/50\n3485868/3485868 [==============================] - 8s 2us/step - loss: 0.0086\nEpoch 32/50\n3485868/3485868 [==============================] - 8s 2us/step - loss: 0.0085\nEpoch 33/50\n3485868/3485868 [==============================] - 8s 2us/step - loss: 0.0085\nEpoch 34/50\n3485868/3485868 [==============================] - 8s 2us/step - loss: 0.0085\nEpoch 35/50\n3485868/3485868 [==============================] - 8s 2us/step - loss: 0.0085\nEpoch 36/50\n3485868/3485868 [==============================] - 8s 2us/step - loss: 0.0085\nEpoch 37/50\n3485868/3485868 [==============================] - 8s 2us/step - loss: 0.0085\nEpoch 38/50\n3485868/3485868 [==============================] - 8s 2us/step - loss: 0.0085\nEpoch 39/50\n3485868/3485868 [==============================] - 8s 2us/step - loss: 0.0085\nEpoch 40/50\n3485868/3485868 [==============================] - 8s 2us/step - loss: 0.0085\nEpoch 41/50\n3485868/3485868 [==============================] - 8s 2us/step - loss: 0.0085\nEpoch 42/50\n3485868/3485868 [==============================] - 8s 2us/step - loss: 0.0085\nEpoch 43/50\n3485868/3485868 [==============================] - 8s 2us/step - loss: 0.0085\nEpoch 44/50\n3485868/3485868 [==============================] - 8s 2us/step - loss: 0.0085\nEpoch 45/50\n3485868/3485868 [==============================] - 8s 2us/step - loss: 0.0085\nEpoch 46/50\n3485868/3485868 [==============================] - 8s 2us/step - loss: 0.0085\nEpoch 47/50\n3485868/3485868 [==============================] - 8s 2us/step - loss: 0.0085\nEpoch 48/50\n3485868/3485868 [==============================] - 8s 2us/step - loss: 0.0085\nEpoch 49/50\n3485868/3485868 [==============================] - 8s 2us/step - loss: 0.0085\nEpoch 50/50\n3485868/3485868 [==============================] - 8s 2us/step - loss: 0.0085\n",
          "name": "stdout"
        }
      ]
    },
    {
      "metadata": {
        "trusted": true,
        "_uuid": "2088f87d2c7cd9b0543eae07e0973b982bc79d45"
      },
      "cell_type": "code",
      "source": "track.history.keys()",
      "execution_count": 46,
      "outputs": [
        {
          "output_type": "execute_result",
          "execution_count": 46,
          "data": {
            "text/plain": "dict_keys(['loss'])"
          },
          "metadata": {}
        }
      ]
    },
    {
      "metadata": {
        "trusted": true,
        "_uuid": "eb1a99dc80dbf8fe6255624529de89c29efbcf57"
      },
      "cell_type": "code",
      "source": "plt.plot(track.history['loss'])",
      "execution_count": 47,
      "outputs": [
        {
          "output_type": "execute_result",
          "execution_count": 47,
          "data": {
            "text/plain": "[<matplotlib.lines.Line2D at 0x7f3ae39b2860>]"
          },
          "metadata": {}
        },
        {
          "output_type": "display_data",
          "data": {
            "text/plain": "<Figure size 432x288 with 1 Axes>",
            "image/png": "[encoded data removed]"
          },
          "metadata": {
            "needs_background": "light"
          }
        }
      ]
    },
    {
      "metadata": {
        "trusted": true,
        "_uuid": "3f06d5133bc65dcdb93f8c2ed476c6a29cde8a4b"
      },
      "cell_type": "code",
      "source": "y_pred = rgr.predict(x_test)",
      "execution_count": 49,
      "outputs": []
    },
    {
      "metadata": {
        "trusted": true,
        "_uuid": "11039f522463dfa749f40392882a58136f1c9d7a"
      },
      "cell_type": "code",
      "source": "test = test_set.values",
      "execution_count": 52,
      "outputs": []
    },
    {
      "metadata": {
        "trusted": true,
        "_uuid": "9b42f33bfdca0233b68afa480155555930984918"
      },
      "cell_type": "code",
      "source": "test",
      "execution_count": 53,
      "outputs": [
        {
          "output_type": "execute_result",
          "execution_count": 53,
          "data": {
            "text/plain": "array([[4.773400e+04, 1.659463e+06, 4.773400e+04, ..., 4.215000e+02,\n        7.000000e+00, 1.500000e+03],\n       [4.773500e+04, 1.659508e+06, 4.773500e+04, ..., 6.558000e+02,\n        4.000000e+00, 1.526000e+03],\n       [4.773600e+04, 1.659555e+06, 4.773600e+04, ..., 7.458000e+01,\n        1.000000e+00, 1.475000e+03],\n       ...,\n       [6.225246e+06, 2.558490e+06, 6.813800e+04, ..., 4.020000e+01,\n        1.000000e+00, 1.513000e+03],\n       [6.225247e+06, 2.558538e+06, 6.814000e+04, ..., 1.063000e+03,\n        4.000000e+00, 1.511000e+03],\n       [6.225248e+06, 2.558639e+06, 6.814300e+04, ..., 1.471000e+02,\n        2.000000e+00, 1.725000e+03]])"
          },
          "metadata": {}
        }
      ]
    },
    {
      "metadata": {
        "trusted": true,
        "_uuid": "6acdb91a767e642373ac3d693b03fdca2ecd7bf7"
      },
      "cell_type": "code",
      "source": "test = sc1.transform(test)\ntest",
      "execution_count": 54,
      "outputs": [
        {
          "output_type": "execute_result",
          "execution_count": 54,
          "data": {
            "text/plain": "array([[-1.69942571,  0.91194544,  1.7320848 , ..., -0.56767079,\n         1.47527278, -0.01159201],\n       [-1.69942516,  0.91201006,  1.73215735, ..., -0.3577954 ,\n         0.22602889,  0.59958899],\n       [-1.6994246 ,  0.91207755,  1.7322299 , ..., -0.87842612,\n        -1.02321501, -0.59926605],\n       ...,\n       [ 1.73719005,  2.2028992 ,  3.21244717, ..., -0.90922217,\n        -1.02321501,  0.29399849],\n       [ 1.7371906 ,  2.20296813,  3.21259227, ...,  0.00695604,\n         0.22602889,  0.24698457],\n       [ 1.73719116,  2.20311316,  3.21280993, ..., -0.81346596,\n        -0.60680038,  5.27747433]])"
          },
          "metadata": {}
        }
      ]
    },
    {
      "metadata": {
        "trusted": true,
        "_uuid": "82cf792727be4a2b6304ad5c1fedaaf67760655e"
      },
      "cell_type": "code",
      "source": "prediction = rgr.predict(test)",
      "execution_count": 55,
      "outputs": []
    },
    {
      "metadata": {
        "trusted": true,
        "_uuid": "00d952b40bfc24901e2758c47829cadf486d29f2"
      },
      "cell_type": "code",
      "source": "prediction",
      "execution_count": 56,
      "outputs": [
        {
          "output_type": "execute_result",
          "execution_count": 56,
          "data": {
            "text/plain": "array([[0.40132204],\n       [0.52077174],\n       [0.2839816 ],\n       ...,\n       [0.03133315],\n       [0.5822957 ],\n       [0.2791347 ]], dtype=float32)"
          },
          "metadata": {}
        }
      ]
    },
    {
      "metadata": {
        "trusted": true,
        "_uuid": "e559bf1ae6d0c4745a349553603881944b20b477"
      },
      "cell_type": "code",
      "source": "submit = pd.DataFrame()",
      "execution_count": 80,
      "outputs": []
    },
    {
      "metadata": {
        "trusted": true,
        "_uuid": "1a3f1c3b7c297241125bcfa6ea4401a2fdc23bee"
      },
      "cell_type": "code",
      "source": "submit['Id'] = test_set['Id']\nsubmit.head()",
      "execution_count": 82,
      "outputs": [
        {
          "output_type": "execute_result",
          "execution_count": 82,
          "data": {
            "text/plain": "      Id\n0  47734\n1  47735\n2  47736\n3  47737\n4  47738",
            "text/html": "<div>\n<style scoped>\n    .dataframe tbody tr th:only-of-type {\n        vertical-align: middle;\n    }\n\n    .dataframe tbody tr th {\n        vertical-align: top;\n    }\n\n    .dataframe thead th {\n        text-align: right;\n    }\n</style>\n<table border=\"1\" class=\"dataframe\">\n  <thead>\n    <tr style=\"text-align: right;\">\n      <th></th>\n      <th>Id</th>\n    </tr>\n  </thead>\n  <tbody>\n    <tr>\n      <th>0</th>\n      <td>47734</td>\n    </tr>\n    <tr>\n      <th>1</th>\n      <td>47735</td>\n    </tr>\n    <tr>\n      <th>2</th>\n      <td>47736</td>\n    </tr>\n    <tr>\n      <th>3</th>\n      <td>47737</td>\n    </tr>\n    <tr>\n      <th>4</th>\n      <td>47738</td>\n    </tr>\n  </tbody>\n</table>\n</div>"
          },
          "metadata": {}
        }
      ]
    },
    {
      "metadata": {
        "trusted": true,
        "_uuid": "a031618afcca023d13731181c9d3e7c32c23f301"
      },
      "cell_type": "code",
      "source": "submit['winPlacePerc'] = prediction\nsubmit.head()",
      "execution_count": 83,
      "outputs": [
        {
          "output_type": "execute_result",
          "execution_count": 83,
          "data": {
            "text/plain": "      Id  winPlacePerc\n0  47734      0.401322\n1  47735      0.520772\n2  47736      0.283982\n3  47737      0.343726\n4  47738      0.131823",
            "text/html": "<div>\n<style scoped>\n    .dataframe tbody tr th:only-of-type {\n        vertical-align: middle;\n    }\n\n    .dataframe tbody tr th {\n        vertical-align: top;\n    }\n\n    .dataframe thead th {\n        text-align: right;\n    }\n</style>\n<table border=\"1\" class=\"dataframe\">\n  <thead>\n    <tr style=\"text-align: right;\">\n      <th></th>\n      <th>Id</th>\n      <th>winPlacePerc</th>\n    </tr>\n  </thead>\n  <tbody>\n    <tr>\n      <th>0</th>\n      <td>47734</td>\n      <td>0.401322</td>\n    </tr>\n    <tr>\n      <th>1</th>\n      <td>47735</td>\n      <td>0.520772</td>\n    </tr>\n    <tr>\n      <th>2</th>\n      <td>47736</td>\n      <td>0.283982</td>\n    </tr>\n    <tr>\n      <th>3</th>\n      <td>47737</td>\n      <td>0.343726</td>\n    </tr>\n    <tr>\n      <th>4</th>\n      <td>47738</td>\n      <td>0.131823</td>\n    </tr>\n  </tbody>\n</table>\n</div>"
          },
          "metadata": {}
        }
      ]
    },
    {
      "metadata": {
        "trusted": true,
        "_uuid": "1fbd6ed226122c558f35c0134bb7283ded667de1"
      },
      "cell_type": "code",
      "source": "submit.to_csv('sample_submission.csv', index = False)",
      "execution_count": null,
      "outputs": []
    },
    {
      "metadata": {
        "trusted": true,
        "_uuid": "7eb4eae0efdcd1a86283b684571c9744d5e19aa5"
      },
      "cell_type": "code",
      "source": "",
      "execution_count": null,
      "outputs": []
    }
  ],
  "metadata": {
    "kernelspec": {
      "display_name": "Python 3",
      "language": "python",
      "name": "python3"
    },
    "language_info": {
      "name": "python",
      "version": "3.6.6",
      "mimetype": "text/x-python",
      "codemirror_mode": {
        "name": "ipython",
        "version": 3
      },
      "pygments_lexer": "ipython3",
      "nbconvert_exporter": "python",
      "file_extension": ".py"
    }
  },
  "nbformat": 4,
  "nbformat_minor": 1
}